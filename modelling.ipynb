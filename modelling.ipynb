{
 "cells": [
  {
   "cell_type": "code",
   "execution_count": 82,
   "metadata": {},
   "outputs": [],
   "source": [
    "import pandas as pd\n",
    "import numpy as np\n",
    "from sklearn.preprocessing import MinMaxScaler\n",
    "from sklearn.linear_model import Lasso\n",
    "from sklearn.model_selection import TimeSeriesSplit, GridSearchCV\n",
    "from sklearn.metrics import mean_squared_error"
   ]
  },
  {
   "cell_type": "code",
   "execution_count": 83,
   "metadata": {},
   "outputs": [],
   "source": [
    "df = pd.read_csv(\"data_2.csv\")"
   ]
  },
  {
   "cell_type": "code",
   "execution_count": 84,
   "metadata": {},
   "outputs": [
    {
     "data": {
      "text/plain": [
       "['Unnamed: 0',\n",
       " 'Country Name',\n",
       " 'Country Code',\n",
       " 'Year',\n",
       " 'Control of Corruption: Percentile Rank',\n",
       " 'GDP growth (annual %)',\n",
       " 'Gini index',\n",
       " 'Net official development assistance received (constant 2021 US$)',\n",
       " 'Political Stability and Absence of Violence/Terrorism: Percentile Rank',\n",
       " 'Population, total',\n",
       " 'Poverty headcount ratio at societal poverty line (% of population)']"
      ]
     },
     "execution_count": 84,
     "metadata": {},
     "output_type": "execute_result"
    }
   ],
   "source": [
    "df.columns.tolist()"
   ]
  },
  {
   "cell_type": "code",
   "execution_count": 85,
   "metadata": {},
   "outputs": [],
   "source": [
    "df = df.drop(columns=['Unnamed: 0'])"
   ]
  },
  {
   "cell_type": "code",
   "execution_count": 86,
   "metadata": {},
   "outputs": [
    {
     "name": "stdout",
     "output_type": "stream",
     "text": [
      "Best alpha: 1.2742749857031321\n",
      "Train RMSE: 5.6354\n",
      "Test RMSE: 5.1929\n",
      "Train R^2: 0.0000\n",
      "Test R^2: -0.0079\n",
      "\n",
      "Top Predictive Features:\n",
      "Empty DataFrame\n",
      "Columns: [Feature, Coefficient]\n",
      "Index: []\n"
     ]
    }
   ],
   "source": [
    "# Sort data by country and year for lagging\n",
    "df = df.sort_values(['Country Code', 'Year'])\n",
    "\n",
    "# Create 1-year lagged features for economic indicators\n",
    "lag_years = 1\n",
    "features_to_lag = [\n",
    "    'Control of Corruption: Percentile Rank',\n",
    "    'GDP growth (annual %)',\n",
    "    'Gini index',\n",
    "    'Political Stability and Absence of Violence/Terrorism: Percentile Rank',\n",
    "    'Population, total',\n",
    "    'Poverty headcount ratio at societal poverty line (% of population)'\n",
    "]\n",
    "\n",
    "for col in features_to_lag:\n",
    "    df[f'{col}_lag{lag_years}'] = df.groupby('Country Code')[col].shift(lag_years)\n",
    "\n",
    "# Drop original features\n",
    "df = df.drop(columns=features_to_lag)\n",
    "\n",
    "# Separate features from target\n",
    "y = np.arcsinh(df['Net official development assistance received (constant 2021 US$)'])\n",
    "X = df.drop(columns=['Net official development assistance received (constant 2021 US$)', 'Country Name', 'Country Code', 'Year']).copy()\n",
    "\n",
    "# Handle missing values with dummies and zero imputation\n",
    "missing_cols = X.columns[X.isnull().any()]\n",
    "for col in missing_cols:\n",
    "    X[f'{col}_missing'] = X[col].isnull().astype(int)\n",
    "    X[col] = X[col].fillna(0)  # Proper in-place replacement\n",
    "\n",
    "# Time-based split (using original year column)\n",
    "sorted_years = sorted(df['Year'].unique())\n",
    "cutoff = sorted_years[int(0.8 * len(sorted_years))]\n",
    "train_mask = df['Year'] <= cutoff\n",
    "test_mask = df['Year'] > cutoff\n",
    "\n",
    "X_train, X_test = X.loc[train_mask], X.loc[test_mask]\n",
    "y_train, y_test = y.loc[train_mask], y.loc[test_mask]\n",
    "\n",
    "# MinMax Scaling\n",
    "scaler = MinMaxScaler()\n",
    "X_train_scaled = scaler.fit_transform(X_train)\n",
    "X_test_scaled = scaler.transform(X_test)\n",
    "\n",
    "# Time-series cross-validated Lasso\n",
    "tscv = TimeSeriesSplit(n_splits=5)\n",
    "lasso = Lasso(max_iter=10000)\n",
    "param_grid = {'alpha': np.logspace(-4, 2, 20)}\n",
    "\n",
    "# Grid search \n",
    "grid_search = GridSearchCV(lasso, param_grid, cv=tscv, scoring='neg_mean_squared_error')\n",
    "grid_search.fit(X_train_scaled, y_train)\n",
    "\n",
    "# evaluating best model\n",
    "best_lasso = grid_search.best_estimator_\n",
    "train_pred = best_lasso.predict(X_train_scaled)\n",
    "test_pred = best_lasso.predict(X_test_scaled)\n",
    "\n",
    "print(f\"Best alpha: {grid_search.best_params_['alpha']}\")\n",
    "print(f\"Train RMSE: {np.sqrt(mean_squared_error(y_train, train_pred)):.4f}\")\n",
    "print(f\"Test RMSE: {np.sqrt(mean_squared_error(y_test, test_pred)):.4f}\")\n",
    "\n",
    "print(f\"Train R^2: {best_lasso.score(X_train_scaled, y_train):.4f}\")\n",
    "print(f\"Test R^2: {best_lasso.score(X_test_scaled, y_test):.4f}\")\n",
    "\n",
    "# Feature importance analysis\n",
    "feature_importance = pd.DataFrame({\n",
    "    'Feature': X.columns,\n",
    "    'Coefficient': best_lasso.coef_\n",
    "}).sort_values('Coefficient', key=abs, ascending=False)\n",
    "\n",
    "print(\"\\nTop Predictive Features:\")\n",
    "print(feature_importance[feature_importance['Coefficient'] != 0])"
   ]
  }
 ],
 "metadata": {
  "kernelspec": {
   "display_name": ".venv",
   "language": "python",
   "name": "python3"
  },
  "language_info": {
   "codemirror_mode": {
    "name": "ipython",
    "version": 3
   },
   "file_extension": ".py",
   "mimetype": "text/x-python",
   "name": "python",
   "nbconvert_exporter": "python",
   "pygments_lexer": "ipython3",
   "version": "3.13.2"
  }
 },
 "nbformat": 4,
 "nbformat_minor": 2
}
