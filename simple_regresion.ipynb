{
 "cells": [
  {
   "cell_type": "code",
   "execution_count": 2,
   "metadata": {},
   "outputs": [],
   "source": [
    "import pandas as pd\n",
    "import numpy as np\n",
    "from sklearn.preprocessing import StandardScaler\n",
    "from sklearn.linear_model import LinearRegression\n",
    "from sklearn.model_selection import TimeSeriesSplit, GridSearchCV\n",
    "from sklearn.metrics import mean_squared_error"
   ]
  },
  {
   "cell_type": "code",
   "execution_count": 3,
   "metadata": {},
   "outputs": [],
   "source": [
    "df = pd.read_csv(\"data_2.csv\")"
   ]
  },
  {
   "cell_type": "code",
   "execution_count": 4,
   "metadata": {},
   "outputs": [
    {
     "data": {
      "text/plain": [
       "['Unnamed: 0',\n",
       " 'Country Name',\n",
       " 'Country Code',\n",
       " 'Year',\n",
       " 'Control of Corruption: Percentile Rank',\n",
       " 'GDP growth (annual %)',\n",
       " 'Gini index',\n",
       " 'Net official development assistance received (constant 2021 US$)',\n",
       " 'Political Stability and Absence of Violence/Terrorism: Percentile Rank',\n",
       " 'Population, total',\n",
       " 'Poverty headcount ratio at societal poverty line (% of population)']"
      ]
     },
     "execution_count": 4,
     "metadata": {},
     "output_type": "execute_result"
    }
   ],
   "source": [
    "df.columns.tolist()"
   ]
  },
  {
   "cell_type": "code",
   "execution_count": 5,
   "metadata": {},
   "outputs": [],
   "source": [
    "df = df.drop(columns=['Unnamed: 0'])"
   ]
  },
  {
   "cell_type": "code",
   "execution_count": null,
   "metadata": {},
   "outputs": [],
   "source": [
    "# Sort data by country and year for lagging\n",
    "df['Year'] = df['Year'].astype(int)\n",
    "df = df.sort_values(['Country Code', 'Year'])\n",
    "\n",
    "# Create 1-year lagged features for economic indicators\n",
    "lag_years = 1\n",
    "features_to_lag = [\n",
    "    'Control of Corruption: Percentile Rank',\n",
    "    'GDP growth (annual %)',\n",
    "    'Gini index',\n",
    "    'Political Stability and Absence of Violence/Terrorism: Percentile Rank',\n",
    "    'Population, total',\n",
    "    'Poverty headcount ratio at societal poverty line (% of population)'\n",
    "]\n",
    "\n",
    "for col in features_to_lag:\n",
    "    df[f'{col}_lag{lag_years}'] = df.groupby('Country Code')[col].shift(lag_years)\n",
    "\n",
    "# Drop original features\n",
    "df = df.drop(columns=features_to_lag)\n",
    "\n",
    "# Separate features from target\n",
    "y = np.arcsinh(df['Net official development assistance received (constant 2021 US$)'])\n",
    "X = df.drop(columns=['Net official development assistance received (constant 2021 US$)', 'Country Name', 'Country Code', 'Year']).copy()\n",
    "\n",
    "# Handle missing values with dummies and zero imputation\n",
    "missing_cols = X.columns[X.isnull().any()]\n",
    "for col in missing_cols:\n",
    "    X[f'{col}_missing'] = X[col].isnull().astype(int)\n",
    "    X[col] = X[col].fillna(0)  # Proper in-place replacement\n",
    "\n",
    "# Time-based split (using original year column)\n",
    "sorted_years = sorted(df['Year'].unique())\n",
    "cutoff = sorted_years[int(0.8 * len(sorted_years))]\n",
    "train_mask = df['Year'] <= cutoff\n",
    "test_mask = df['Year'] > cutoff\n",
    "\n",
    "X_train, X_test = X.loc[train_mask], X.loc[test_mask]\n",
    "y_train, y_test = y.loc[train_mask], y.loc[test_mask]\n",
    "\n",
    "# scaling\n",
    "scaler = StandardScaler()\n",
    "X_train_scaled = scaler.fit_transform(X_train)\n",
    "X_test_scaled = scaler.transform(X_test)\n",
    "\n",
    "reg = LinearRegression()\n",
    "\n",
    "# evaluating best model\n",
    "best_lasso = grid_search.best_estimator_\n",
    "train_pred = best_lasso.predict(X_train_scaled)\n",
    "test_pred = best_lasso.predict(X_test_scaled)\n",
    "\n",
    "print(f\"Best alpha: {grid_search.best_params_['alpha']}\")\n",
    "print(f\"Train RMSE: {np.sqrt(mean_squared_error(y_train, train_pred)):.4f}\")\n",
    "print(f\"Test RMSE: {np.sqrt(mean_squared_error(y_test, test_pred)):.4f}\")\n",
    "\n",
    "print(f\"Train R^2: {best_lasso.score(X_train_scaled, y_train):.4f}\")\n",
    "print(f\"Test R^2: {best_lasso.score(X_test_scaled, y_test):.4f}\")"
   ]
  }
 ],
 "metadata": {
  "kernelspec": {
   "display_name": ".venv",
   "language": "python",
   "name": "python3"
  },
  "language_info": {
   "codemirror_mode": {
    "name": "ipython",
    "version": 3
   },
   "file_extension": ".py",
   "mimetype": "text/x-python",
   "name": "python",
   "nbconvert_exporter": "python",
   "pygments_lexer": "ipython3",
   "version": "3.13.2"
  }
 },
 "nbformat": 4,
 "nbformat_minor": 2
}
